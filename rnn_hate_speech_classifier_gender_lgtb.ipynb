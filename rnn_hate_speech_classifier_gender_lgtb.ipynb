{
 "cells": [
  {
   "cell_type": "code",
   "execution_count": 1,
   "metadata": {
    "executionInfo": {
     "elapsed": 3060,
     "status": "ok",
     "timestamp": 1608114317635,
     "user": {
      "displayName": "CARLOS EDMUNDO ARCILA .",
      "photoUrl": "",
      "userId": "08721798847192372743"
     },
     "user_tz": -60
    },
    "id": "VqXtK2q6JhIg"
   },
   "outputs": [],
   "source": [
    "#https://www.tensorflow.org/tutorials/load_data/text\n",
    "import tensorflow as tf\n",
    "import keras\n",
    "import os\n",
    "import numpy as np\n",
    "import sys"
   ]
  },
  {
   "cell_type": "code",
   "execution_count": 2,
   "metadata": {
    "executionInfo": {
     "elapsed": 1633,
     "status": "ok",
     "timestamp": 1608114321744,
     "user": {
      "displayName": "CARLOS EDMUNDO ARCILA .",
      "photoUrl": "",
      "userId": "08721798847192372743"
     },
     "user_tz": -60
    },
    "id": "JUPysP5NJhIl"
   },
   "outputs": [],
   "source": [
    "import matplotlib.pyplot as plt\n",
    "\n",
    "def plot_graphs(history, metric):\n",
    "  plt.plot(history.history[metric])\n",
    "  plt.plot(history.history['val_'+metric], '')\n",
    "  plt.xlabel(\"Epochs\")\n",
    "  plt.ylabel(metric)\n",
    "  plt.legend([metric, 'val_'+metric])\n",
    "  plt.show()"
   ]
  },
  {
   "cell_type": "code",
   "execution_count": 3,
   "metadata": {
    "id": "rWymCEEgJhIm"
   },
   "outputs": [
    {
     "name": "stdout",
     "output_type": "stream",
     "text": [
      "    8081  136694  862351 no_hate_sexual.txt\n",
      "    2772   49321  316263 hate_sexual.txt\n"
     ]
    }
   ],
   "source": [
    "FILE_NAMES = ['no_hate_sexual.txt', 'hate_sexual.txt']\n",
    "!wc no_hate_sexual.txt\n",
    "!wc hate_sexual.txt"
   ]
  },
  {
   "cell_type": "code",
   "execution_count": 4,
   "metadata": {
    "executionInfo": {
     "elapsed": 1159,
     "status": "ok",
     "timestamp": 1608114403502,
     "user": {
      "displayName": "CARLOS EDMUNDO ARCILA .",
      "photoUrl": "",
      "userId": "08721798847192372743"
     },
     "user_tz": -60
    },
    "id": "uwi6YxaNJhIm"
   },
   "outputs": [],
   "source": [
    "def labeler(example, index):\n",
    "  return example, tf.cast(index, tf.int64)  \n",
    "\n",
    "labeled_data_sets = []\n",
    "\n",
    "for i, file_name in enumerate(FILE_NAMES):\n",
    "  lines_dataset = tf.data.TextLineDataset(os.path.join(file_name))\n",
    "  labeled_dataset = lines_dataset.map(lambda ex: labeler(ex, i))\n",
    "  labeled_data_sets.append(labeled_dataset)"
   ]
  },
  {
   "cell_type": "code",
   "execution_count": 5,
   "metadata": {
    "executionInfo": {
     "elapsed": 1101,
     "status": "ok",
     "timestamp": 1608114405156,
     "user": {
      "displayName": "CARLOS EDMUNDO ARCILA .",
      "photoUrl": "",
      "userId": "08721798847192372743"
     },
     "user_tz": -60
    },
    "id": "YfRzJFvQJhIn"
   },
   "outputs": [],
   "source": [
    "BUFFER_SIZE = 50000  #Randomness \n",
    "BATCH_SIZE = 64  #check if neccesary\n",
    "TAKE_SIZE = 3000 #5000 in the example ## Test data size"
   ]
  },
  {
   "cell_type": "code",
   "execution_count": 6,
   "metadata": {
    "executionInfo": {
     "elapsed": 537,
     "status": "ok",
     "timestamp": 1608114406184,
     "user": {
      "displayName": "CARLOS EDMUNDO ARCILA .",
      "photoUrl": "",
      "userId": "08721798847192372743"
     },
     "user_tz": -60
    },
    "id": "IssHYgWvJhIn"
   },
   "outputs": [],
   "source": [
    "#1 = Hate  0= No Hate\n",
    "\n",
    "all_labeled_data = labeled_data_sets[0]\n",
    "for labeled_dataset in labeled_data_sets[1:]:\n",
    "  all_labeled_data = all_labeled_data.concatenate(labeled_dataset)\n",
    "  \n",
    "all_labeled_data = all_labeled_data.shuffle(\n",
    "    BUFFER_SIZE, reshuffle_each_iteration=False)\n"
   ]
  },
  {
   "cell_type": "code",
   "execution_count": 7,
   "metadata": {
    "id": "v4wTSVlcJhIn",
    "scrolled": false
   },
   "outputs": [
    {
     "name": "stdout",
     "output_type": "stream",
     "text": [
      "(<tf.Tensor: shape=(), dtype=string, numpy=b\"who's gonna tell her que cada uno ve la belleza de diferente manera y que ningun gusto es mejor o peor que otro??\">, <tf.Tensor: shape=(), dtype=int64, numpy=0>)\n",
      "(<tf.Tensor: shape=(), dtype=string, numpy=b'@Rama3998 Vieron?!! Yo les dije que era un machirulo \\xf0\\x9f\\x98\\x95'>, <tf.Tensor: shape=(), dtype=int64, numpy=0>)\n",
      "(<tf.Tensor: shape=(), dtype=string, numpy=b'Med\\xc3\\xadquese porfavor se\\xc3\\xb1ora'>, <tf.Tensor: shape=(), dtype=int64, numpy=0>)\n",
      "(<tf.Tensor: shape=(), dtype=string, numpy=b'pero dad la cara, maricones'>, <tf.Tensor: shape=(), dtype=int64, numpy=1>)\n",
      "(<tf.Tensor: shape=(), dtype=string, numpy=b'mujer como te amoooo\\xf0\\x9f\\x91\\x8f\\xf0\\x9f\\x91\\x8f\\xf0\\x9f\\x98\\x8d'>, <tf.Tensor: shape=(), dtype=int64, numpy=0>)\n",
      "(<tf.Tensor: shape=(), dtype=string, numpy=b'@NightWalkercito @SergiVidal215 @jdomingo442 @elcrustaceorojo Sisi pero dimelo a la cara jajajaj que sois todos unos maricones, os vais a cagar ya vereis cuantos muertos van a ver PUTOS CATALANES ME CAGO EN VUESTROS PUTISISMOS MUERTOS HIJOS DE PUTA MUERTE A TODOS'>, <tf.Tensor: shape=(), dtype=int64, numpy=1>)\n",
      "(<tf.Tensor: shape=(), dtype=string, numpy=b'JAJAJJJAJJAJAJAJAJAJAJAJAJAJA'>, <tf.Tensor: shape=(), dtype=int64, numpy=0>)\n",
      "(<tf.Tensor: shape=(), dtype=string, numpy=b'Conversaciones del Bar de Lola https://t.co/MkgaVElXjI'>, <tf.Tensor: shape=(), dtype=int64, numpy=0>)\n",
      "(<tf.Tensor: shape=(), dtype=string, numpy=b'@Larios_971 Maricona'>, <tf.Tensor: shape=(), dtype=int64, numpy=0>)\n",
      "(<tf.Tensor: shape=(), dtype=string, numpy=b'Y LA GENTE DEL COSTADO MIRANDO SIN HACER NADA dios que sociedad del orto'>, <tf.Tensor: shape=(), dtype=int64, numpy=0>)\n"
     ]
    }
   ],
   "source": [
    "for ex in all_labeled_data.take(10):\n",
    "  print(ex)"
   ]
  },
  {
   "cell_type": "code",
   "execution_count": 8,
   "metadata": {
    "executionInfo": {
     "elapsed": 3640,
     "status": "ok",
     "timestamp": 1608114413142,
     "user": {
      "displayName": "CARLOS EDMUNDO ARCILA .",
      "photoUrl": "",
      "userId": "08721798847192372743"
     },
     "user_tz": -60
    },
    "id": "K-97RTkrJhIo"
   },
   "outputs": [],
   "source": [
    "all_labeled_data = all_labeled_data.prefetch(2)\n",
    "\n",
    "train_data = all_labeled_data.skip(TAKE_SIZE).shuffle(BUFFER_SIZE)\n",
    "train_data = train_data.prefetch(2)\n",
    "\n",
    "test_data = all_labeled_data.take(TAKE_SIZE)\n",
    "test_data = test_data.prefetch(2)\n",
    "\n",
    "train_size = len(list(train_data))\n",
    "test_size = len(list(test_data))"
   ]
  },
  {
   "cell_type": "code",
   "execution_count": 9,
   "metadata": {
    "id": "AFhR9IOxJhIo"
   },
   "outputs": [
    {
     "name": "stdout",
     "output_type": "stream",
     "text": [
      "all_labeled_data:\n",
      "<class 'tensorflow.python.data.ops.dataset_ops.PrefetchDataset'>\n",
      "<PrefetchDataset shapes: ((), ()), types: (tf.string, tf.int64)>\n",
      "10855\n",
      "train_data:\n",
      "<class 'tensorflow.python.data.ops.dataset_ops.PrefetchDataset'>\n",
      "<PrefetchDataset shapes: ((), ()), types: (tf.string, tf.int64)>\n",
      "7855\n",
      "test_data:\n",
      "<class 'tensorflow.python.data.ops.dataset_ops.PrefetchDataset'>\n",
      "<PrefetchDataset shapes: ((), ()), types: (tf.string, tf.int64)>\n",
      "3000\n"
     ]
    }
   ],
   "source": [
    "print(\"all_labeled_data:\")\n",
    "print(type(all_labeled_data))\n",
    "print(all_labeled_data)\n",
    "print(len(list(all_labeled_data)))\n",
    "print(\"train_data:\")\n",
    "print(type(train_data))\n",
    "print(train_data)\n",
    "print(len(list(train_data)))\n",
    "print(\"test_data:\")\n",
    "print(type(test_data))\n",
    "print(test_data)\n",
    "print(len(list(test_data)))"
   ]
  },
  {
   "cell_type": "code",
   "execution_count": 10,
   "metadata": {
    "id": "WLvSIBP8JhIo"
   },
   "outputs": [
    {
     "name": "stdout",
     "output_type": "stream",
     "text": [
      "Tweet: @enlar_ Maricones\n",
      "Label: 1 = Hate\n",
      "\n",
      "Tweet: Pacos maricones\n",
      "Label: 1 = Hate\n",
      "\n",
      "Tweet: Un xinO maRiquItA que parece mÁs unA sEñOra que las mIsmaS sEñoRas.\n",
      "Label: 0 = No-Hate\n",
      "\n",
      "Tweet: Estoy cansado de el prototipo de travesti moderno, de hoy en adelante seré un maricon con medias y tanga, un poco de maquillaje y perfume barato. Sin pelucas ni postizos. El hombre activo que le vaya mi nuevo género adelanté. https://t.co/zYqMcSuAe6\n",
      "Label: 0 = No-Hate\n",
      "\n",
      "Tweet: @Alexpas950 Ese hp es más creído, que día le dije algo y me bloqueó pero antes me escribió un poco de guevonadas que ni leí....Lo he visto varias veces en Armenia y es muy mariquita...\n",
      "Label: 1 = Hate\n",
      "\n"
     ]
    }
   ],
   "source": [
    "#Examples of train data\n",
    "for X_batch, y_batch in train_data.batch(5).take(1):\n",
    "    for review, label in zip(X_batch.numpy(), y_batch.numpy()):\n",
    "        print(\"Tweet:\", review.decode(\"utf-8\")[:10000])\n",
    "        print(\"Label:\", label, \"= Hate\" if label == 1 else \"= No-Hate\")\n",
    "        print()"
   ]
  },
  {
   "cell_type": "code",
   "execution_count": 11,
   "metadata": {
    "executionInfo": {
     "elapsed": 1259,
     "status": "ok",
     "timestamp": 1608114427273,
     "user": {
      "displayName": "CARLOS EDMUNDO ARCILA .",
      "photoUrl": "",
      "userId": "08721798847192372743"
     },
     "user_tz": -60
    },
    "id": "k7j8YxLeJhIp"
   },
   "outputs": [],
   "source": [
    "#Function to preprocess the train data\n",
    "\n",
    "def preprocess(X_batch, y_batch):\n",
    "    X_batch = tf.strings.substr(X_batch, 0, 300)  #Use the first 300 characters\n",
    "    X_batch = tf.strings.lower(X_batch)  #To lower case\n",
    "    X_batch = tf.strings.regex_replace(X_batch, rb\"<br\\s*/?>\", b\" \") #Remove tags\n",
    "    X_batch = tf.strings.regex_replace(X_batch, rb\"http\\S+\", b\" \") #Remove html strings\n",
    "    X_batch = tf.strings.regex_replace(X_batch, rb\"[^\\P{P}]+\", b\" \") #Remove punctuation, except \n",
    "    X_batch = tf.strings.split(X_batch) #Split by spaces\n",
    "    return X_batch.to_tensor(default_value=b\"<pad>\"), y_batch"
   ]
  },
  {
   "cell_type": "code",
   "execution_count": 12,
   "metadata": {
    "id": "2Z_67OqQJhIp"
   },
   "outputs": [
    {
     "data": {
      "text/plain": [
       "(<tf.Tensor: shape=(5, 40), dtype=string, numpy=\n",
       " array([[b'enlar', b'maricones', b'<pad>', b'<pad>', b'<pad>', b'<pad>',\n",
       "         b'<pad>', b'<pad>', b'<pad>', b'<pad>', b'<pad>', b'<pad>',\n",
       "         b'<pad>', b'<pad>', b'<pad>', b'<pad>', b'<pad>', b'<pad>',\n",
       "         b'<pad>', b'<pad>', b'<pad>', b'<pad>', b'<pad>', b'<pad>',\n",
       "         b'<pad>', b'<pad>', b'<pad>', b'<pad>', b'<pad>', b'<pad>',\n",
       "         b'<pad>', b'<pad>', b'<pad>', b'<pad>', b'<pad>', b'<pad>',\n",
       "         b'<pad>', b'<pad>', b'<pad>', b'<pad>'],\n",
       "        [b'pacos', b'maricones', b'<pad>', b'<pad>', b'<pad>', b'<pad>',\n",
       "         b'<pad>', b'<pad>', b'<pad>', b'<pad>', b'<pad>', b'<pad>',\n",
       "         b'<pad>', b'<pad>', b'<pad>', b'<pad>', b'<pad>', b'<pad>',\n",
       "         b'<pad>', b'<pad>', b'<pad>', b'<pad>', b'<pad>', b'<pad>',\n",
       "         b'<pad>', b'<pad>', b'<pad>', b'<pad>', b'<pad>', b'<pad>',\n",
       "         b'<pad>', b'<pad>', b'<pad>', b'<pad>', b'<pad>', b'<pad>',\n",
       "         b'<pad>', b'<pad>', b'<pad>', b'<pad>'],\n",
       "        [b'un', b'xino', b'mariquita', b'que', b'parece', b'm\\xc3\\x81s',\n",
       "         b'una', b'se\\xc3\\xb1ora', b'que', b'las', b'mismas',\n",
       "         b'se\\xc3\\xb1oras', b'<pad>', b'<pad>', b'<pad>', b'<pad>',\n",
       "         b'<pad>', b'<pad>', b'<pad>', b'<pad>', b'<pad>', b'<pad>',\n",
       "         b'<pad>', b'<pad>', b'<pad>', b'<pad>', b'<pad>', b'<pad>',\n",
       "         b'<pad>', b'<pad>', b'<pad>', b'<pad>', b'<pad>', b'<pad>',\n",
       "         b'<pad>', b'<pad>', b'<pad>', b'<pad>', b'<pad>', b'<pad>'],\n",
       "        [b'estoy', b'cansado', b'de', b'el', b'prototipo', b'de',\n",
       "         b'travesti', b'moderno', b'de', b'hoy', b'en', b'adelante',\n",
       "         b'ser\\xc3\\xa9', b'un', b'maricon', b'con', b'medias', b'y',\n",
       "         b'tanga', b'un', b'poco', b'de', b'maquillaje', b'y', b'perfume',\n",
       "         b'barato', b'sin', b'pelucas', b'ni', b'postizos', b'el',\n",
       "         b'hombre', b'activo', b'que', b'le', b'vaya', b'mi', b'nuevo',\n",
       "         b'g\\xc3\\xa9nero', b'adelant\\xc3\\xa9'],\n",
       "        [b'alexpas950', b'ese', b'hp', b'es', b'm\\xc3\\xa1s',\n",
       "         b'cre\\xc3\\xaddo', b'que', b'd\\xc3\\xada', b'le', b'dije', b'algo',\n",
       "         b'y', b'me', b'bloque\\xc3\\xb3', b'pero', b'antes', b'me',\n",
       "         b'escribi\\xc3\\xb3', b'un', b'poco', b'de', b'guevonadas', b'que',\n",
       "         b'ni', b'le\\xc3\\xad', b'lo', b'he', b'visto', b'varias',\n",
       "         b'veces', b'en', b'armenia', b'y', b'es', b'muy', b'mariquita',\n",
       "         b'<pad>', b'<pad>', b'<pad>', b'<pad>']], dtype=object)>,\n",
       " <tf.Tensor: shape=(5,), dtype=int64, numpy=array([1, 1, 0, 0, 1])>)"
      ]
     },
     "execution_count": 12,
     "metadata": {},
     "output_type": "execute_result"
    }
   ],
   "source": [
    "#Example of preprocessing of train data\n",
    "preprocess(X_batch, y_batch)"
   ]
  },
  {
   "cell_type": "code",
   "execution_count": 13,
   "metadata": {
    "executionInfo": {
     "elapsed": 2761,
     "status": "ok",
     "timestamp": 1608114432405,
     "user": {
      "displayName": "CARLOS EDMUNDO ARCILA .",
      "photoUrl": "",
      "userId": "08721798847192372743"
     },
     "user_tz": -60
    },
    "id": "vnuyqI3eJhIp"
   },
   "outputs": [],
   "source": [
    "#Construct Vocabulary\n",
    "\n",
    "from collections import Counter\n",
    "\n",
    "vocabulary = Counter()\n",
    "for X_batch, y_batch in train_data.batch(32).map(preprocess):\n",
    "    for review in X_batch:\n",
    "        vocabulary.update(list(review.numpy()))"
   ]
  },
  {
   "cell_type": "code",
   "execution_count": 14,
   "metadata": {
    "id": "n2tBnBDqJhIr"
   },
   "outputs": [
    {
     "data": {
      "text/plain": [
       "[(b'<pad>', 253572),\n",
       " (b'de', 5124),\n",
       " (b'que', 5110),\n",
       " (b'y', 3518),\n",
       " (b'la', 3302),\n",
       " (b'a', 3289),\n",
       " (b'no', 2625),\n",
       " (b'el', 2223),\n",
       " (b'en', 1759),\n",
       " (b'es', 1745),\n",
       " (b'los', 1589),\n",
       " (b'me', 1479),\n",
       " (b'un', 1433),\n",
       " (b'se', 1421),\n",
       " (b'por', 1178),\n",
       " (b'lo', 1155),\n",
       " (b'una', 1093),\n",
       " (b'con', 1016),\n",
       " (b'machirulo', 955),\n",
       " (b'maricones', 920)]"
      ]
     },
     "execution_count": 14,
     "metadata": {},
     "output_type": "execute_result"
    }
   ],
   "source": [
    "vocabulary.most_common()[:20]\n",
    "#CHECK if we should skip STOP WORDS or apply POS to use only N, V & A; OR Unify words?"
   ]
  },
  {
   "cell_type": "code",
   "execution_count": 15,
   "metadata": {
    "id": "9tbMQBeSJhIr"
   },
   "outputs": [
    {
     "data": {
      "text/plain": [
       "22265"
      ]
     },
     "execution_count": 15,
     "metadata": {},
     "output_type": "execute_result"
    }
   ],
   "source": [
    "len(vocabulary)"
   ]
  },
  {
   "cell_type": "code",
   "execution_count": 16,
   "metadata": {
    "executionInfo": {
     "elapsed": 896,
     "status": "ok",
     "timestamp": 1608114435057,
     "user": {
      "displayName": "CARLOS EDMUNDO ARCILA .",
      "photoUrl": "",
      "userId": "08721798847192372743"
     },
     "user_tz": -60
    },
    "id": "E0JX8h-oJhIr"
   },
   "outputs": [],
   "source": [
    "#Truncate the vocabulary, keeping only the 10,000 most common words\n",
    "vocab_size = 10000\n",
    "truncated_vocabulary = [\n",
    "    word for word, count in vocabulary.most_common()[:vocab_size]]"
   ]
  },
  {
   "cell_type": "code",
   "execution_count": 17,
   "metadata": {
    "id": "c_wSBerUJhIs"
   },
   "outputs": [
    {
     "name": "stdout",
     "output_type": "stream",
     "text": [
      "45\n",
      "9\n",
      "16\n",
      "2458\n",
      "1\n",
      "1081\n",
      "1\n",
      "191\n"
     ]
    }
   ],
   "source": [
    "word_to_id = {word: index for index, word in enumerate(truncated_vocabulary)}\n",
    "for word in b\"Esta es una prueba de discurso de odio\".lower().split():\n",
    "    print(word_to_id.get(word) or vocab_size)"
   ]
  },
  {
   "cell_type": "code",
   "execution_count": 18,
   "metadata": {
    "executionInfo": {
     "elapsed": 906,
     "status": "ok",
     "timestamp": 1608114437756,
     "user": {
      "displayName": "CARLOS EDMUNDO ARCILA .",
      "photoUrl": "",
      "userId": "08721798847192372743"
     },
     "user_tz": -60
    },
    "id": "_1cOI87-JhIs"
   },
   "outputs": [],
   "source": [
    "words = tf.constant(truncated_vocabulary)\n",
    "word_ids = tf.range(len(truncated_vocabulary), dtype=tf.int64)\n",
    "vocab_init = tf.lookup.KeyValueTensorInitializer(words, word_ids)\n",
    "num_oov_buckets = 1000\n",
    "table = tf.lookup.StaticVocabularyTable(vocab_init, num_oov_buckets)"
   ]
  },
  {
   "cell_type": "code",
   "execution_count": 20,
   "metadata": {
    "executionInfo": {
     "elapsed": 978,
     "status": "ok",
     "timestamp": 1608114440703,
     "user": {
      "displayName": "CARLOS EDMUNDO ARCILA .",
      "photoUrl": "",
      "userId": "08721798847192372743"
     },
     "user_tz": -60
    },
    "id": "y9nQVuf_JhIs"
   },
   "outputs": [],
   "source": [
    "def encode_words(X_batch, y_batch):\n",
    "    return table.lookup(X_batch), y_batch"
   ]
  },
  {
   "cell_type": "code",
   "execution_count": 21,
   "metadata": {
    "executionInfo": {
     "elapsed": 1349,
     "status": "ok",
     "timestamp": 1608114442022,
     "user": {
      "displayName": "CARLOS EDMUNDO ARCILA .",
      "photoUrl": "",
      "userId": "08721798847192372743"
     },
     "user_tz": -60
    },
    "id": "12WY4Q88JhIs"
   },
   "outputs": [],
   "source": [
    "train_set = train_data.repeat().batch(32).map(preprocess)\n",
    "train_set = train_set.map(encode_words).prefetch(1)"
   ]
  },
  {
   "cell_type": "code",
   "execution_count": 22,
   "metadata": {
    "executionInfo": {
     "elapsed": 1158,
     "status": "ok",
     "timestamp": 1608114443611,
     "user": {
      "displayName": "CARLOS EDMUNDO ARCILA .",
      "photoUrl": "",
      "userId": "08721798847192372743"
     },
     "user_tz": -60
    },
    "id": "Wmd_WR5JJhIt"
   },
   "outputs": [],
   "source": [
    "test_set = test_data.repeat().batch(32).map(preprocess)\n",
    "test_set = test_set.map(encode_words).prefetch(1)"
   ]
  },
  {
   "cell_type": "code",
   "execution_count": 23,
   "metadata": {
    "id": "tfylVJEJJhIt"
   },
   "outputs": [
    {
     "name": "stdout",
     "output_type": "stream",
     "text": [
      "tf.Tensor(\n",
      "[[  226     0     0 ...     0     0     0]\n",
      " [    2  1892  1721 ...     0     0     0]\n",
      " [10984    17    16 ...     0     0     0]\n",
      " ...\n",
      " [   97  1478    17 ...     0     0     0]\n",
      " [  438     2    11 ...     0     0     0]\n",
      " [10946   524   276 ...     0     0     0]], shape=(32, 45), dtype=int64)\n",
      "tf.Tensor([0 0 0 1 1 0 0 1 0 1 0 0 0 1 0 0 0 1 0 0 0 0 1 0 0 0 0 0 1 1 1 0], shape=(32,), dtype=int64)\n"
     ]
    }
   ],
   "source": [
    "for X_batch, y_batch in train_set.take(1):\n",
    "    print(X_batch)\n",
    "    print(y_batch)"
   ]
  },
  {
   "cell_type": "code",
   "execution_count": 24,
   "metadata": {},
   "outputs": [
    {
     "data": {
      "text/plain": [
       "'ACTIVATE THIS ONLY FOR EXTERNAL VALIDATION\\next_val_set = external_validation_dataset.repeat().batch(32).map(preprocess)\\next_val_set = ext_val_set.map(encode_words).prefetch(1)\\n\\nfor X_batch, y_batch in ext_val_set.take(1):\\n    print(X_batch)\\n    print(y_batch)\\n'"
      ]
     },
     "execution_count": 24,
     "metadata": {},
     "output_type": "execute_result"
    }
   ],
   "source": [
    "'''ACTIVATE THIS ONLY FOR EXTERNAL VALIDATION\n",
    "ext_val_set = external_validation_dataset.repeat().batch(32).map(preprocess)\n",
    "ext_val_set = ext_val_set.map(encode_words).prefetch(1)\n",
    "\n",
    "for X_batch, y_batch in ext_val_set.take(1):\n",
    "    print(X_batch)\n",
    "    print(y_batch)\n",
    "'''"
   ]
  },
  {
   "cell_type": "code",
   "execution_count": 25,
   "metadata": {
    "executionInfo": {
     "elapsed": 1627,
     "status": "ok",
     "timestamp": 1608114447253,
     "user": {
      "displayName": "CARLOS EDMUNDO ARCILA .",
      "photoUrl": "",
      "userId": "08721798847192372743"
     },
     "user_tz": -60
    },
    "id": "PIJAwRhAJhIt"
   },
   "outputs": [],
   "source": [
    "embed_size = 6 #128 in the original example\n",
    "model = keras.models.Sequential([\n",
    "    keras.layers.Embedding(vocab_size + num_oov_buckets, embed_size,\n",
    "                           mask_zero=False, # Check: this means that previous padding on test sets are expected \n",
    "                           input_shape=[None]),\n",
    "    keras.layers.GRU(128, return_sequences=True),\n",
    "    keras.layers.GRU(128),\n",
    "    keras.layers.Dense(1, activation=\"sigmoid\")\n",
    "])\n",
    "model.compile(loss=\"binary_crossentropy\", optimizer=\"adam\", metrics=[\"accuracy\", tf.keras.metrics.AUC(), \n",
    "                                                                     tf.keras.metrics.Precision(),\n",
    "                                                                    tf.keras.metrics.Recall()   ])\n"
   ]
  },
  {
   "cell_type": "code",
   "execution_count": 26,
   "metadata": {
    "id": "GPjT_yuZJhIt"
   },
   "outputs": [
    {
     "name": "stdout",
     "output_type": "stream",
     "text": [
      "Epoch 1/5\n",
      "245/245 [==============================] - 26s 89ms/step - loss: 0.5899 - accuracy: 0.7418 - auc: 0.4825 - precision: 1.0000 - recall: 0.0031 - val_loss: 0.5581 - val_accuracy: 0.7646 - val_auc: 0.4950 - val_precision: 0.0000e+00 - val_recall: 0.0000e+00\n",
      "Epoch 2/5\n",
      "245/245 [==============================] - 23s 95ms/step - loss: 0.5714 - accuracy: 0.7427 - auc: 0.5075 - precision: 0.0000e+00 - recall: 0.0000e+00 - val_loss: 0.5524 - val_accuracy: 0.7646 - val_auc: 0.5100 - val_precision: 0.0000e+00 - val_recall: 0.0000e+00\n",
      "Epoch 3/5\n",
      "245/245 [==============================] - 18s 75ms/step - loss: 0.5726 - accuracy: 0.7412 - auc: 0.4963 - precision: 0.0000e+00 - recall: 0.0000e+00 - val_loss: 0.5477 - val_accuracy: 0.7646 - val_auc: 0.5001 - val_precision: 0.0000e+00 - val_recall: 0.0000e+00\n",
      "Epoch 4/5\n",
      "245/245 [==============================] - 19s 79ms/step - loss: 0.5664 - accuracy: 0.7442 - auc: 0.5382 - precision: 0.3708 - recall: 0.0018 - val_loss: 0.5447 - val_accuracy: 0.7646 - val_auc: 0.6173 - val_precision: 0.0000e+00 - val_recall: 0.0000e+00\n",
      "Epoch 5/5\n",
      "245/245 [==============================] - 18s 75ms/step - loss: 0.5184 - accuracy: 0.7727 - auc: 0.6521 - precision: 0.5720 - recall: 0.1483 - val_loss: 0.3681 - val_accuracy: 0.8500 - val_auc: 0.8785 - val_precision: 0.6737 - val_recall: 0.7035\n"
     ]
    }
   ],
   "source": [
    "#Train the model\n",
    "#Internal validartion validation validatio_data = test_set\n",
    "#External validation validatio_data = ext_val_set\n",
    "history = model.fit(train_set, steps_per_epoch=train_size // 32, epochs=5, validation_data=test_set, \n",
    "                    validation_steps=30)"
   ]
  },
  {
   "cell_type": "code",
   "execution_count": 27,
   "metadata": {
    "id": "dUvXaeUhJhIt"
   },
   "outputs": [
    {
     "name": "stdout",
     "output_type": "stream",
     "text": [
      "Loss = 0.3681316375732422\n",
      "Accuracy = 0.8500000238418579\n",
      "Precision =  0.6737288236618042\n",
      "Recall = 0.7035398483276367\n",
      "F1 Score =  0.6883117057012632\n",
      "ROC-AUC Score = 0.8784602880477905\n"
     ]
    }
   ],
   "source": [
    "#The F1 Score is the 2*((precision*recall)/(precision+recall)).\n",
    "#history.history\n",
    "loss = history.history[\"val_loss\"][-1]\n",
    "print(\"Loss =\", loss)\n",
    "accuracy = history.history[\"val_accuracy\"][-1]\n",
    "print(\"Accuracy =\", accuracy)\n",
    "precision = history.history[\"val_precision\"][-1]\n",
    "print(\"Precision = \", precision)\n",
    "recall = history.history[\"val_recall\"][-1]\n",
    "print(\"Recall =\", recall)\n",
    "f1 = 2*((precision*recall)/(precision+recall))\n",
    "print(\"F1 Score = \", f1)\n",
    "auc = history.history[\"val_auc\"][-1]\n",
    "print(\"ROC-AUC Score =\", auc)"
   ]
  },
  {
   "cell_type": "code",
   "execution_count": 28,
   "metadata": {
    "id": "fFQ8JYOIJhIu"
   },
   "outputs": [
    {
     "data": {
      "image/png": "[encoded data removed]",
      "text/plain": [
       "<Figure size 432x288 with 1 Axes>"
      ]
     },
     "metadata": {
      "needs_background": "light"
     },
     "output_type": "display_data"
    },
    {
     "name": "stdout",
     "output_type": "stream",
     "text": [
      "None\n"
     ]
    },
    {
     "data": {
      "image/png": "[encoded data removed]",
      "text/plain": [
       "<Figure size 432x288 with 1 Axes>"
      ]
     },
     "metadata": {
      "needs_background": "light"
     },
     "output_type": "display_data"
    },
    {
     "name": "stdout",
     "output_type": "stream",
     "text": [
      "None\n"
     ]
    },
    {
     "data": {
      "image/png": "[encoded data removed]",
      "text/plain": [
       "<Figure size 432x288 with 1 Axes>"
      ]
     },
     "metadata": {
      "needs_background": "light"
     },
     "output_type": "display_data"
    },
    {
     "name": "stdout",
     "output_type": "stream",
     "text": [
      "None\n"
     ]
    },
    {
     "data": {
      "image/png": "[encoded data removed]",
      "text/plain": [
       "<Figure size 432x288 with 1 Axes>"
      ]
     },
     "metadata": {
      "needs_background": "light"
     },
     "output_type": "display_data"
    },
    {
     "name": "stdout",
     "output_type": "stream",
     "text": [
      "None\n"
     ]
    },
    {
     "data": {
      "image/png": "[encoded data removed]",
      "text/plain": [
       "<Figure size 432x288 with 1 Axes>"
      ]
     },
     "metadata": {
      "needs_background": "light"
     },
     "output_type": "display_data"
    },
    {
     "name": "stdout",
     "output_type": "stream",
     "text": [
      "None\n"
     ]
    }
   ],
   "source": [
    "print(plot_graphs(history, 'loss'))\n",
    "print(plot_graphs(history, 'accuracy'))\n",
    "print(plot_graphs(history, 'precision'))\n",
    "print(plot_graphs(history, 'recall'))\n",
    "print(plot_graphs(history, 'auc'))"
   ]
  },
  {
   "cell_type": "code",
   "execution_count": 86,
   "metadata": {
    "id": "z-CUEok7JhIu"
   },
   "outputs": [],
   "source": [
    "model.save(\"rnn_hate_sexual.h5\")"
   ]
  },
  {
   "cell_type": "code",
   "execution_count": 29,
   "metadata": {
    "id": "2hOOSZ2TJhIu"
   },
   "outputs": [],
   "source": [
    "def pad_to_size(vec, size):\n",
    "  zeros = [0] * (size - len(vec))\n",
    "  vec.extend(zeros)\n",
    "  return vec"
   ]
  },
  {
   "cell_type": "code",
   "execution_count": 30,
   "metadata": {
    "id": "6tFWQG_KJhIu"
   },
   "outputs": [],
   "source": [
    "def encode_frase(sample_pred_text):\n",
    "    sample_pred_text = table.lookup(tf.constant([sample_pred_text.lower().split()]))\n",
    "    sample_pred_text = tf.make_tensor_proto(sample_pred_text)\n",
    "    sample_pred_text = tf.make_ndarray(sample_pred_text)\n",
    "    sample_pred_text = sample_pred_text.tolist()\n",
    "    sample_pred_text = sample_pred_text[0]\n",
    "    return sample_pred_text"
   ]
  },
  {
   "cell_type": "code",
   "execution_count": 31,
   "metadata": {
    "id": "gMiFC0YBJhIv"
   },
   "outputs": [],
   "source": [
    "def sample_predict(sample_pred_text, pad):\n",
    "  encoded_sample_pred_text = encode_frase(sample_pred_text)\n",
    "  if pad:\n",
    "    encoded_sample_pred_text = pad_to_size(encoded_sample_pred_text, 64)\n",
    "  encoded_sample_pred_text = tf.cast(encoded_sample_pred_text, tf.float32)\n",
    "  predictions = model.predict(tf.expand_dims(encoded_sample_pred_text, 0))\n",
    "\n",
    "  return (predictions)"
   ]
  },
  {
   "cell_type": "code",
   "execution_count": 34,
   "metadata": {
    "id": "SjpeHcQOJhIv"
   },
   "outputs": [
    {
     "name": "stdout",
     "output_type": "stream",
     "text": [
      "[[0.60447586]]\n"
     ]
    }
   ],
   "source": [
    "# predict on a sample text with or without padding: True or False\n",
    "\n",
    "sample_pred_text = \"Claro como soy marica me gusta meterme cosas por el culo no? VETE A LA MIERDA.\"\n",
    "predictions = sample_predict(sample_pred_text, pad=True)\n",
    "print(predictions)\n",
    "#print(*predictions.flatten(), sep=', ')"
   ]
  },
  {
   "cell_type": "code",
   "execution_count": 36,
   "metadata": {},
   "outputs": [],
   "source": [
    "#PREDICTIONS FROM A FILE\n",
    "\n",
    "#Read test.txt from the same directory of the Notebook\n",
    "f=open(\"validacion_todo.txt\", \"r\", encoding=\"utf8\", errors='ignore')\n",
    "f1=f.readlines()\n",
    "for x in f1:\n",
    "    score = sample_predict(x, pad=True)\n",
    "    print(x.rstrip('\\n \\n'), \"|\", *score.flatten(), \"|\", \"Hate\" if score>0.5 else \"No hate\")\n"
   ]
  },
  {
   "cell_type": "code",
   "execution_count": 52,
   "metadata": {},
   "outputs": [],
   "source": [
    "#PRINT PREDICTIONS TO A FILE\n",
    "original_stdout = sys.stdout\n",
    "\n",
    "with open('predictions_valida_todo_2.txt', 'w') as f:\n",
    "    sys.stdout = f \n",
    "    #Read test.txt from the same directory of the Notebook\n",
    "    f=open(\"txt_todo.txt\", \"r\", encoding=\"utf8\", errors='ignore')\n",
    "    f1=f.readlines()\n",
    "    for x in f1:\n",
    "        score = sample_predict(x, pad=True)\n",
    "        print(x.rstrip('\\n \\n'), \"|\", *score.flatten(), \"|\", \"Hate\" if score>0.5 else \"No hate\")\n",
    "    sys.stdout = original_stdout "
   ]
  },
  {
   "cell_type": "code",
   "execution_count": 120,
   "metadata": {},
   "outputs": [],
   "source": [
    "#!head -5 predictions.txt"
   ]
  }
 ],
 "metadata": {
  "colab": {
   "collapsed_sections": [],
   "name": "hate_speech_classifier.ipynb",
   "provenance": []
  },
  "kernelspec": {
   "display_name": "Python 3",
   "language": "python",
   "name": "python3"
  },
  "language_info": {
   "codemirror_mode": {
    "name": "ipython",
    "version": 3
   },
   "file_extension": ".py",
   "mimetype": "text/x-python",
   "name": "python",
   "nbconvert_exporter": "python",
   "pygments_lexer": "ipython3",
   "version": "3.8.5"
  }
 },
 "nbformat": 4,
 "nbformat_minor": 1
}
